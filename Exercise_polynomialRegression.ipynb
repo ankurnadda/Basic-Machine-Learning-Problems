{
 "cells": [
  {
   "cell_type": "markdown",
   "metadata": {},
   "source": [
    "# Exercise: Polynomial Regression and KNN\n"
   ]
  },
  {
   "cell_type": "markdown",
   "metadata": {},
   "source": [
    "A) Use the Auto dataset, find the $R^2$ score of a linear regression model that predicts the miles per gallon (mpg) from the horsepower.\n",
    "\n",
    "Hints:\n",
    "\n",
    "    Create model object using: model=LinearRegression()\n",
    "\n",
    "    Fit the model: fitted_model=model.fit(X_train,Y_train)\n",
    "\n",
    "    Find the R squared metric using: fitted_model.score(X_test,Y_test)\n"
   ]
  },
  {
   "cell_type": "code",
   "execution_count": 7,
   "metadata": {},
   "outputs": [
    {
     "name": "stdout",
     "output_type": "stream",
     "text": [
      "The  0.62176588114\n"
     ]
    },
    {
     "data": {
      "image/png": "[encoded data removed]",
      "text/plain": [
       "<matplotlib.figure.Figure at 0xc2d8a20>"
      ]
     },
     "metadata": {},
     "output_type": "display_data"
    }
   ],
   "source": [
    "%matplotlib inline\n",
    "import matplotlib.pyplot as plt\n",
    "from pandas import read_csv\n",
    "from sklearn.linear_model import LinearRegression\n",
    "from sklearn.model_selection import train_test_split\n",
    "import numpy as np\n",
    "\n",
    "AutoData=read_csv('Auto_modify.csv') # read the data\n",
    "\n",
    "X_auto_hp=AutoData.horsepower.values.reshape(-1,1) # define features: horsepower \n",
    "Y_auto_mpg=AutoData.mpg.values.reshape(-1,1) # define label: miles per gallon\n",
    "\n",
    "#ploting the data points\n",
    "plt.figure(figsize=(10,10))\n",
    "plt.scatter(X_auto_hp, Y_auto_mpg, marker= 'o')\n",
    "plt.xlabel('Horsepower (x)')\n",
    "plt.ylabel('Miles per gallon (y)')\n",
    "\n",
    "#Split to train and test\n",
    "X_train, X_test, Y_train, Y_test= train_test_split(X_auto_hp, Y_auto_mpg, random_state= 0)\n",
    "\n",
    "# continue your code here\n",
    "lm = LinearRegression()\n",
    "model = lm.fit(X_train, Y_train)                    \n",
    "\n",
    "\n",
    "print(\"The \",model.score(X_test,Y_test))\n"
   ]
  },
  {
   "cell_type": "markdown",
   "metadata": {},
   "source": [
    "B) Use polynomial regression to include both the horsepower feature and $(horsepower)^2$ in the regression model. Find the $R^2$ metric. \n",
    "\n",
    "Hint: You can use [numpy.concatenate](https://docs.scipy.org/doc/numpy-1.13.0/reference/generated/numpy.concatenate.html). For example to add to an array U a column vector $W^2$, we can use X=np.concatenate((U,W**2),axis=1)\n",
    "\n",
    "\n",
    "C) Optional: repeat (B) increase the degree of the polynomial to 3,then 4, then 5 and check the accuracy in each case.\n"
   ]
  },
  {
   "cell_type": "code",
   "execution_count": 39,
   "metadata": {},
   "outputs": [
    {
     "name": "stdout",
     "output_type": "stream",
     "text": [
      "The score with horsepower and horsepower^2 as predictors 0.727103150464\n"
     ]
    }
   ],
   "source": [
    "# write code here\n",
    "import numpy as np\n",
    "Y= AutoData.mpg.values.reshape(-1,1)\n",
    "X1 = AutoData.horsepower.values.reshape(-1,1)\n",
    "X2 = X1**2\n",
    "X= np.concatenate((X1,X2), axis=1)\n",
    "X_train, X_test, Y_train, Y_test= train_test_split(X, Y, random_state= 0)\n",
    "lm = LinearRegression()\n",
    "model = lm.fit(X_train, Y_train)\n",
    "print(\"The score with horsepower and horsepower^2 as predictors\", model.score(X_test,Y_test))\n"
   ]
  },
  {
   "cell_type": "code",
   "execution_count": 40,
   "metadata": {},
   "outputs": [
    {
     "name": "stdout",
     "output_type": "stream",
     "text": [
      "The score with horsepower and horsepower^ 3 as predictors is 0.722640633343\n",
      "The score with horsepower and horsepower^ 4 as predictors is 0.716289682568\n",
      "The score with horsepower and horsepower^ 5 as predictors is 0.709686560629\n"
     ]
    }
   ],
   "source": [
    "import numpy as np\n",
    "Y= AutoData.mpg.values.reshape(-1,1)\n",
    "X1 = AutoData.horsepower.values.reshape(-1,1)\n",
    "for i in range (3,6):\n",
    "    X2 = X1**i\n",
    "    X= np.concatenate((X1,X2), axis=1)\n",
    "    X_train, X_test, Y_train, Y_test= train_test_split(X, Y, random_state= 0)\n",
    "    lm = LinearRegression()\n",
    "    model = lm.fit(X_train, Y_train)\n",
    "    print(\"The score with horsepower and horsepower^\",i, \"as predictors is\", model.score(X_test,Y_test))"
   ]
  },
  {
   "cell_type": "markdown",
   "metadata": {},
   "source": [
    "D) Use KNN regression to predict the miles per gallon(mpg) with K=7, and find $R^2$ metric in the following cases \n",
    "\n",
    "- One feature: Horsepower only\n",
    "\n",
    "- Two features: horsepower and (horsepower)2 \n",
    "\n",
    "Hint: \n",
    "\n",
    "    Create KNN regression object using neighbors.KNeighborsRegressor:\n",
    "\n",
    "    knnRegression = neighbors.KNeighborsRegressor(n_neighbors=7)\n",
    "\n",
    "    Use the .fit and .score methods as before\n",
    "\n",
    "E) COMMENT on your results: which model performs better? How does performance change when adding the quadratic feature?\n"
   ]
  },
  {
   "cell_type": "code",
   "execution_count": 45,
   "metadata": {},
   "outputs": [
    {
     "name": "stdout",
     "output_type": "stream",
     "text": [
      "The score for KNN model with one feature horsepower is  0.667477744171\n",
      "The score for KNN model with two features horsepower and horsepower^2 is  0.670108404882\n"
     ]
    }
   ],
   "source": [
    "from sklearn import neighbors\n",
    "# add you code here\n",
    "X_auto_hp=AutoData.horsepower.values.reshape(-1,1) # define features: horsepower \n",
    "Y_auto_mpg=AutoData.mpg.values.reshape(-1,1)\n",
    "X1 = AutoData.horsepower.values.reshape(-1,1)\n",
    "X2 = X1**2\n",
    "X= np.concatenate((X1,X2), axis=1)\n",
    "X_train, X_test, Y_train, Y_test= train_test_split(X_auto_hp, Y_auto_mpg, random_state= 0)\n",
    "X_train1, X_test1, Y_train1, Y_test1= train_test_split(X, Y_auto_mpg, random_state= 0)\n",
    "knn_model = neighbors.KNeighborsRegressor(n_neighbors =7)\n",
    "knn_model.fit(X_train, Y_train)\n",
    "print(\"The score for KNN model with one feature horsepower is \", knn_model.score(X_test, Y_test) )\n",
    "knn_model1 = neighbors.KNeighborsRegressor(n_neighbors =7)\n",
    "knn_model1.fit(X_train1, Y_train1)\n",
    "print(\"The score for KNN model with two features horsepower and horsepower^2 is \", knn_model1.score(X_test1, Y_test1) )"
   ]
  },
  {
   "cell_type": "raw",
   "metadata": {},
   "source": [
    "The degree 2 polynomial regression horsepower model performs best with accuracy of approximately 0.7, second best is KNN with K=7 and degree 2 and last is simple linear relationship. The performance increases with the quadratic feature in both cases, reaches maximum with degree for predictor as 2 for polynomial relationship. From the scatterplot we could see that relationship was not linear hence better performance with polynomial model."
   ]
  }
 ],
 "metadata": {
  "kernelspec": {
   "display_name": "Python 3",
   "language": "python",
   "name": "python3"
  },
  "language_info": {
   "codemirror_mode": {
    "name": "ipython",
    "version": 3
   },
   "file_extension": ".py",
   "mimetype": "text/x-python",
   "name": "python",
   "nbconvert_exporter": "python",
   "pygments_lexer": "ipython3",
   "version": "3.6.2"
  }
 },
 "nbformat": 4,
 "nbformat_minor": 2
}
