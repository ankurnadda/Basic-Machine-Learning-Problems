{
 "cells": [
  {
   "cell_type": "markdown",
   "metadata": {},
   "source": [
    "# Exercise: Decision Trees & Combining Methods\n",
    "\n",
    "In this exercise we will use decision trees and neural networks for classification of Iris species (Setosa, Versicolor, Virginica). For use random_state=0 for splitting and building all models.\n",
    "\n",
    "1) Fit decision tree with maximum depth (max_depth) of 2 and the default gini index for building the tree. Find the classification accuracy. \n",
    "You can visualize the tree using:\n",
    "\n",
    "       from sklearn.tree import export_graphviz\n",
    "\n",
    "       import graphviz \n",
    "\n",
    "       dot_data=export_graphviz(FittedTreeModel,class_names=iris_dataset.target_names,    feature_names=iris_dataset.feature_names,out_file=None)\n",
    "\n",
    "       graph = graphviz.Source(dot_data)  \n",
    "\n",
    "       graph \n",
    "\n",
    "2) Use random forests that combines 4 trees, each of maximum depth 2 and maximum number of features considered at each split is 2. What is the classification accuracy?\n",
    "\n",
    "3) Use AdaBoost with 4 trees to perform the classification. What is the accuracy? Comment on results\n",
    "\n",
    "\n"
   ]
  },
  {
   "cell_type": "code",
   "execution_count": 7,
   "metadata": {
    "collapsed": true
   },
   "outputs": [],
   "source": [
    "%matplotlib inline\n",
    "from sklearn.datasets import load_iris\n",
    "import numpy as np\n",
    "from sklearn.preprocessing import MinMaxScaler \n",
    "from sklearn.model_selection import train_test_split\n",
    "from sklearn.tree import DecisionTreeClassifier\n",
    "from sklearn.ensemble import RandomForestClassifier\n",
    "from sklearn.ensemble import AdaBoostClassifier\n",
    "from sklearn.neural_network import MLPClassifier\n"
   ]
  },
  {
   "cell_type": "code",
   "execution_count": 8,
   "metadata": {},
   "outputs": [
    {
     "name": "stdout",
     "output_type": "stream",
     "text": [
      "Test Score, Decision Tree :  0.894736842105\n"
     ]
    }
   ],
   "source": [
    "iris = load_iris()\n",
    "X_train, X_test, Y_train, Y_test = train_test_split(iris['data'],iris['target'],random_state=0)\n",
    "D_Tree=DecisionTreeClassifier(random_state=0,max_depth=2)\n",
    "model_1=D_Tree.fit(X_train,Y_train)\n",
    "Score_1=model_1.score(X_test,Y_test)\n",
    "print(\"Test Score, Decision Tree : \",Score_1)"
   ]
  },
  {
   "cell_type": "code",
   "execution_count": 9,
   "metadata": {},
   "outputs": [
    {
     "name": "stdout",
     "output_type": "stream",
     "text": [
      "Test Score, Random Forest :  0.947368421053\n"
     ]
    }
   ],
   "source": [
    "R_Forest= RandomForestClassifier (n_estimators=4, max_features=2, max_depth=2, random_state=0)\n",
    "model_2=R_Forest.fit(X_train,Y_train)\n",
    "Score_2=model_2.score(X_test,Y_test)\n",
    "print(\"Test Score, Random Forest : \",Score_2)"
   ]
  },
  {
   "cell_type": "code",
   "execution_count": 10,
   "metadata": {},
   "outputs": [
    {
     "name": "stdout",
     "output_type": "stream",
     "text": [
      "Test Score, ADA Boost :  0.973684210526\n"
     ]
    }
   ],
   "source": [
    "A_Boost= AdaBoostClassifier(n_estimators=4, random_state=0)\n",
    "model_3=A_Boost.fit(X_train,Y_train)\n",
    "Score_3=model_3.score(X_test,Y_test)\n",
    "print(\"Test Score, ADA Boost : \",Score_3)"
   ]
  },
  {
   "cell_type": "code",
   "execution_count": 1,
   "metadata": {},
   "outputs": [
    {
     "ename": "ModuleNotFoundError",
     "evalue": "No module named 'graphviz'",
     "output_type": "error",
     "traceback": [
      "\u001b[1;31m---------------------------------------------------------------------------\u001b[0m",
      "\u001b[1;31mModuleNotFoundError\u001b[0m                       Traceback (most recent call last)",
      "\u001b[1;32m<ipython-input-1-d0f52289ec51>\u001b[0m in \u001b[0;36m<module>\u001b[1;34m()\u001b[0m\n\u001b[1;32m----> 1\u001b[1;33m \u001b[1;32mimport\u001b[0m \u001b[0mgraphviz\u001b[0m\u001b[1;33m\u001b[0m\u001b[0m\n\u001b[0m\u001b[0;32m      2\u001b[0m \u001b[0mdot_data\u001b[0m\u001b[1;33m=\u001b[0m\u001b[0mexport_graphviz\u001b[0m\u001b[1;33m(\u001b[0m\u001b[0mD_tree\u001b[0m\u001b[1;33m,\u001b[0m\u001b[0mclass_names\u001b[0m\u001b[1;33m=\u001b[0m\u001b[0miris_dataset\u001b[0m\u001b[1;33m.\u001b[0m\u001b[0mtarget_names\u001b[0m\u001b[1;33m,\u001b[0m    \u001b[0mfeature_names\u001b[0m\u001b[1;33m=\u001b[0m\u001b[0miris_dataset\u001b[0m\u001b[1;33m.\u001b[0m\u001b[0mfeature_names\u001b[0m\u001b[1;33m,\u001b[0m\u001b[0mout_file\u001b[0m\u001b[1;33m=\u001b[0m\u001b[1;32mNone\u001b[0m\u001b[1;33m)\u001b[0m\u001b[1;33m\u001b[0m\u001b[0m\n\u001b[0;32m      3\u001b[0m \u001b[0mgraph\u001b[0m \u001b[1;33m=\u001b[0m \u001b[0mgraphviz\u001b[0m\u001b[1;33m.\u001b[0m\u001b[0mSource\u001b[0m\u001b[1;33m(\u001b[0m\u001b[0mdot_data\u001b[0m\u001b[1;33m)\u001b[0m\u001b[1;33m\u001b[0m\u001b[0m\n\u001b[0;32m      4\u001b[0m \u001b[0mgraph\u001b[0m\u001b[1;33m\u001b[0m\u001b[0m\n",
      "\u001b[1;31mModuleNotFoundError\u001b[0m: No module named 'graphviz'"
     ]
    }
   ],
   "source": [
    "from sklearn.tree import export_graphviz\n",
    "\n",
    "import graphviz \n",
    "dot_data=export_graphviz(D_tree,class_names=iris_dataset.target_names,    feature_names=iris_dataset.feature_names,out_file=None)\n",
    "graph = graphviz.Source(dot_data)  \n",
    "graph"
   ]
  },
  {
   "cell_type": "markdown",
   "metadata": {},
   "source": [
    "ADA boost gives us the best accuracy when compared to the other models for the IRIS dataset using different petal and sepal lengths."
   ]
  }
 ],
 "metadata": {
  "kernelspec": {
   "display_name": "Python 3",
   "language": "python",
   "name": "python3"
  },
  "language_info": {
   "codemirror_mode": {
    "name": "ipython",
    "version": 3
   },
   "file_extension": ".py",
   "mimetype": "text/x-python",
   "name": "python",
   "nbconvert_exporter": "python",
   "pygments_lexer": "ipython3",
   "version": "3.6.2"
  }
 },
 "nbformat": 4,
 "nbformat_minor": 2
}
